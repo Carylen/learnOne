{
 "cells": [
  {
   "cell_type": "code",
   "execution_count": null,
   "id": "5c75b13e",
   "metadata": {},
   "outputs": [],
   "source": [
    "%pip install seaborn"
   ]
  },
  {
   "cell_type": "code",
   "execution_count": 2,
   "id": "fa77af2a",
   "metadata": {},
   "outputs": [],
   "source": [
    "import yaml\n",
    "import joblib\n",
    "import numpy as np\n",
    "import pandas as pd\n",
    "import seaborn as sns\n",
    "import scipy.stats as scs\n",
    "import matplotlib.pyplot as plt"
   ]
  },
  {
   "cell_type": "code",
   "execution_count": 3,
   "id": "e74147cc",
   "metadata": {},
   "outputs": [],
   "source": [
    "params_dir = \"../config/config.yaml\""
   ]
  },
  {
   "cell_type": "code",
   "execution_count": 4,
   "id": "0fa1a44a",
   "metadata": {},
   "outputs": [],
   "source": [
    "def load_params(param_dir):\n",
    "    with open(param_dir, 'r') as file:\n",
    "        params = yaml.safe_load(file)\n",
    "        \n",
    "    return params"
   ]
  },
  {
   "cell_type": "code",
   "execution_count": 5,
   "id": "86258764",
   "metadata": {},
   "outputs": [
    {
     "data": {
      "text/plain": [
       "{'dataset_dir': 'data/raw/',\n",
       " 'datetime_columns': ['tanggal'],\n",
       " 'int32_columns': ['pm10', 'pm25', 'so2', 'co', 'o3', 'no2', 'max'],\n",
       " 'label': 'categori',\n",
       " 'label_categories': ['BAIK', 'SEDANG', 'TIDAK SEHAT'],\n",
       " 'label_categories_new': ['BAIK', 'TIDAK BAIK'],\n",
       " 'missing_value_co': 11,\n",
       " 'missing_value_no2': 18,\n",
       " 'missing_value_o3': 29,\n",
       " 'missing_value_pm10': {'BAIK': 28, 'TIDAK BAIK': 55},\n",
       " 'missing_value_pm25': {'BAIK': 38, 'TIDAK BAIK': 82},\n",
       " 'missing_value_so2': 35,\n",
       " 'object_columns': ['stasiun', 'critical', 'categori'],\n",
       " 'predictors': ['stasiun', 'pm10', 'pm25', 'so2', 'co', 'o3', 'no2'],\n",
       " 'range_co': [-1, 100],\n",
       " 'range_no2': [-1, 100],\n",
       " 'range_o3': [-1, 160],\n",
       " 'range_pm10': [-1, 800],\n",
       " 'range_pm25': [-1, 400],\n",
       " 'range_so2': [-1, 500],\n",
       " 'range_stasiun': ['DKI1 (Bunderan HI)',\n",
       "  'DKI2 (Kelapa Gading)',\n",
       "  'DKI3 (Jagakarsa)',\n",
       "  'DKI4 (Lubang Buaya)',\n",
       "  'DKI5 (Kebon Jeruk) Jakarta Barat']}"
      ]
     },
     "execution_count": 5,
     "metadata": {},
     "output_type": "execute_result"
    }
   ],
   "source": [
    "params = load_params(params_dir)\n",
    "params"
   ]
  },
  {
   "cell_type": "code",
   "execution_count": 27,
   "id": "b768a584",
   "metadata": {},
   "outputs": [],
   "source": [
    "x_train = joblib.load(\"../data/processed/x_train.pkl\")\n",
    "y_train = joblib.load(\"../data/processed/y_train.pkl\")"
   ]
  },
  {
   "cell_type": "code",
   "execution_count": 28,
   "id": "5b2e3b0d",
   "metadata": {},
   "outputs": [
    {
     "data": {
      "text/html": [
       "<div>\n",
       "<style scoped>\n",
       "    .dataframe tbody tr th:only-of-type {\n",
       "        vertical-align: middle;\n",
       "    }\n",
       "\n",
       "    .dataframe tbody tr th {\n",
       "        vertical-align: top;\n",
       "    }\n",
       "\n",
       "    .dataframe thead th {\n",
       "        text-align: right;\n",
       "    }\n",
       "</style>\n",
       "<table border=\"1\" class=\"dataframe\">\n",
       "  <thead>\n",
       "    <tr style=\"text-align: right;\">\n",
       "      <th></th>\n",
       "      <th>stasiun</th>\n",
       "      <th>pm10</th>\n",
       "      <th>pm25</th>\n",
       "      <th>so2</th>\n",
       "      <th>co</th>\n",
       "      <th>o3</th>\n",
       "      <th>no2</th>\n",
       "    </tr>\n",
       "  </thead>\n",
       "  <tbody>\n",
       "    <tr>\n",
       "      <th>1527</th>\n",
       "      <td>DKI1 (Bunderan HI)</td>\n",
       "      <td>25</td>\n",
       "      <td>42</td>\n",
       "      <td>20</td>\n",
       "      <td>8</td>\n",
       "      <td>18</td>\n",
       "      <td>22</td>\n",
       "    </tr>\n",
       "    <tr>\n",
       "      <th>433</th>\n",
       "      <td>DKI5 (Kebon Jeruk) Jakarta Barat</td>\n",
       "      <td>57</td>\n",
       "      <td>86</td>\n",
       "      <td>-1</td>\n",
       "      <td>16</td>\n",
       "      <td>19</td>\n",
       "      <td>30</td>\n",
       "    </tr>\n",
       "    <tr>\n",
       "      <th>1357</th>\n",
       "      <td>DKI5 (Kebon Jeruk) Jakarta Barat</td>\n",
       "      <td>24</td>\n",
       "      <td>35</td>\n",
       "      <td>21</td>\n",
       "      <td>7</td>\n",
       "      <td>22</td>\n",
       "      <td>9</td>\n",
       "    </tr>\n",
       "    <tr>\n",
       "      <th>1136</th>\n",
       "      <td>DKI2 (Kelapa Gading)</td>\n",
       "      <td>38</td>\n",
       "      <td>55</td>\n",
       "      <td>24</td>\n",
       "      <td>11</td>\n",
       "      <td>68</td>\n",
       "      <td>7</td>\n",
       "    </tr>\n",
       "    <tr>\n",
       "      <th>1097</th>\n",
       "      <td>DKI1 (Bunderan HI)</td>\n",
       "      <td>72</td>\n",
       "      <td>108</td>\n",
       "      <td>14</td>\n",
       "      <td>43</td>\n",
       "      <td>44</td>\n",
       "      <td>20</td>\n",
       "    </tr>\n",
       "    <tr>\n",
       "      <th>...</th>\n",
       "      <td>...</td>\n",
       "      <td>...</td>\n",
       "      <td>...</td>\n",
       "      <td>...</td>\n",
       "      <td>...</td>\n",
       "      <td>...</td>\n",
       "      <td>...</td>\n",
       "    </tr>\n",
       "    <tr>\n",
       "      <th>1802</th>\n",
       "      <td>DKI5 (Kebon Jeruk) Jakarta Barat</td>\n",
       "      <td>46</td>\n",
       "      <td>74</td>\n",
       "      <td>33</td>\n",
       "      <td>7</td>\n",
       "      <td>26</td>\n",
       "      <td>18</td>\n",
       "    </tr>\n",
       "    <tr>\n",
       "      <th>1433</th>\n",
       "      <td>DKI3 (Jagakarsa)</td>\n",
       "      <td>35</td>\n",
       "      <td>55</td>\n",
       "      <td>42</td>\n",
       "      <td>7</td>\n",
       "      <td>29</td>\n",
       "      <td>9</td>\n",
       "    </tr>\n",
       "    <tr>\n",
       "      <th>977</th>\n",
       "      <td>DKI2 (Kelapa Gading)</td>\n",
       "      <td>82</td>\n",
       "      <td>112</td>\n",
       "      <td>56</td>\n",
       "      <td>12</td>\n",
       "      <td>41</td>\n",
       "      <td>27</td>\n",
       "    </tr>\n",
       "    <tr>\n",
       "      <th>983</th>\n",
       "      <td>DKI3 (Jagakarsa)</td>\n",
       "      <td>60</td>\n",
       "      <td>84</td>\n",
       "      <td>47</td>\n",
       "      <td>7</td>\n",
       "      <td>23</td>\n",
       "      <td>18</td>\n",
       "    </tr>\n",
       "    <tr>\n",
       "      <th>747</th>\n",
       "      <td>DKI5 (Kebon Jeruk) Jakarta Barat</td>\n",
       "      <td>44</td>\n",
       "      <td>72</td>\n",
       "      <td>27</td>\n",
       "      <td>11</td>\n",
       "      <td>13</td>\n",
       "      <td>21</td>\n",
       "    </tr>\n",
       "  </tbody>\n",
       "</table>\n",
       "<p>1269 rows × 7 columns</p>\n",
       "</div>"
      ],
      "text/plain": [
       "                               stasiun  pm10  pm25  so2  co  o3  no2\n",
       "1527                DKI1 (Bunderan HI)    25    42   20   8  18   22\n",
       "433   DKI5 (Kebon Jeruk) Jakarta Barat    57    86   -1  16  19   30\n",
       "1357  DKI5 (Kebon Jeruk) Jakarta Barat    24    35   21   7  22    9\n",
       "1136              DKI2 (Kelapa Gading)    38    55   24  11  68    7\n",
       "1097                DKI1 (Bunderan HI)    72   108   14  43  44   20\n",
       "...                                ...   ...   ...  ...  ..  ..  ...\n",
       "1802  DKI5 (Kebon Jeruk) Jakarta Barat    46    74   33   7  26   18\n",
       "1433                  DKI3 (Jagakarsa)    35    55   42   7  29    9\n",
       "977               DKI2 (Kelapa Gading)    82   112   56  12  41   27\n",
       "983                   DKI3 (Jagakarsa)    60    84   47   7  23   18\n",
       "747   DKI5 (Kebon Jeruk) Jakarta Barat    44    72   27  11  13   21\n",
       "\n",
       "[1269 rows x 7 columns]"
      ]
     },
     "execution_count": 28,
     "metadata": {},
     "output_type": "execute_result"
    }
   ],
   "source": [
    "x_train"
   ]
  },
  {
   "cell_type": "code",
   "execution_count": 29,
   "id": "9fb5d9e6",
   "metadata": {},
   "outputs": [
    {
     "data": {
      "text/plain": [
       "1527           BAIK\n",
       "433          SEDANG\n",
       "1357           BAIK\n",
       "1136         SEDANG\n",
       "1097    TIDAK SEHAT\n",
       "           ...     \n",
       "1802         SEDANG\n",
       "1433         SEDANG\n",
       "977     TIDAK SEHAT\n",
       "983          SEDANG\n",
       "747          SEDANG\n",
       "Name: categori, Length: 1269, dtype: object"
      ]
     },
     "execution_count": 29,
     "metadata": {},
     "output_type": "execute_result"
    }
   ],
   "source": [
    "y_train"
   ]
  },
  {
   "cell_type": "code",
   "execution_count": 30,
   "id": "b3ce38f6",
   "metadata": {},
   "outputs": [
    {
     "data": {
      "text/html": [
       "<div>\n",
       "<style scoped>\n",
       "    .dataframe tbody tr th:only-of-type {\n",
       "        vertical-align: middle;\n",
       "    }\n",
       "\n",
       "    .dataframe tbody tr th {\n",
       "        vertical-align: top;\n",
       "    }\n",
       "\n",
       "    .dataframe thead th {\n",
       "        text-align: right;\n",
       "    }\n",
       "</style>\n",
       "<table border=\"1\" class=\"dataframe\">\n",
       "  <thead>\n",
       "    <tr style=\"text-align: right;\">\n",
       "      <th></th>\n",
       "      <th>stasiun</th>\n",
       "      <th>pm10</th>\n",
       "      <th>pm25</th>\n",
       "      <th>so2</th>\n",
       "      <th>co</th>\n",
       "      <th>o3</th>\n",
       "      <th>no2</th>\n",
       "      <th>categori</th>\n",
       "    </tr>\n",
       "  </thead>\n",
       "  <tbody>\n",
       "    <tr>\n",
       "      <th>1527</th>\n",
       "      <td>DKI1 (Bunderan HI)</td>\n",
       "      <td>25</td>\n",
       "      <td>42</td>\n",
       "      <td>20</td>\n",
       "      <td>8</td>\n",
       "      <td>18</td>\n",
       "      <td>22</td>\n",
       "      <td>BAIK</td>\n",
       "    </tr>\n",
       "    <tr>\n",
       "      <th>433</th>\n",
       "      <td>DKI5 (Kebon Jeruk) Jakarta Barat</td>\n",
       "      <td>57</td>\n",
       "      <td>86</td>\n",
       "      <td>-1</td>\n",
       "      <td>16</td>\n",
       "      <td>19</td>\n",
       "      <td>30</td>\n",
       "      <td>SEDANG</td>\n",
       "    </tr>\n",
       "    <tr>\n",
       "      <th>1357</th>\n",
       "      <td>DKI5 (Kebon Jeruk) Jakarta Barat</td>\n",
       "      <td>24</td>\n",
       "      <td>35</td>\n",
       "      <td>21</td>\n",
       "      <td>7</td>\n",
       "      <td>22</td>\n",
       "      <td>9</td>\n",
       "      <td>BAIK</td>\n",
       "    </tr>\n",
       "    <tr>\n",
       "      <th>1136</th>\n",
       "      <td>DKI2 (Kelapa Gading)</td>\n",
       "      <td>38</td>\n",
       "      <td>55</td>\n",
       "      <td>24</td>\n",
       "      <td>11</td>\n",
       "      <td>68</td>\n",
       "      <td>7</td>\n",
       "      <td>SEDANG</td>\n",
       "    </tr>\n",
       "    <tr>\n",
       "      <th>1097</th>\n",
       "      <td>DKI1 (Bunderan HI)</td>\n",
       "      <td>72</td>\n",
       "      <td>108</td>\n",
       "      <td>14</td>\n",
       "      <td>43</td>\n",
       "      <td>44</td>\n",
       "      <td>20</td>\n",
       "      <td>TIDAK SEHAT</td>\n",
       "    </tr>\n",
       "    <tr>\n",
       "      <th>...</th>\n",
       "      <td>...</td>\n",
       "      <td>...</td>\n",
       "      <td>...</td>\n",
       "      <td>...</td>\n",
       "      <td>...</td>\n",
       "      <td>...</td>\n",
       "      <td>...</td>\n",
       "      <td>...</td>\n",
       "    </tr>\n",
       "    <tr>\n",
       "      <th>1802</th>\n",
       "      <td>DKI5 (Kebon Jeruk) Jakarta Barat</td>\n",
       "      <td>46</td>\n",
       "      <td>74</td>\n",
       "      <td>33</td>\n",
       "      <td>7</td>\n",
       "      <td>26</td>\n",
       "      <td>18</td>\n",
       "      <td>SEDANG</td>\n",
       "    </tr>\n",
       "    <tr>\n",
       "      <th>1433</th>\n",
       "      <td>DKI3 (Jagakarsa)</td>\n",
       "      <td>35</td>\n",
       "      <td>55</td>\n",
       "      <td>42</td>\n",
       "      <td>7</td>\n",
       "      <td>29</td>\n",
       "      <td>9</td>\n",
       "      <td>SEDANG</td>\n",
       "    </tr>\n",
       "    <tr>\n",
       "      <th>977</th>\n",
       "      <td>DKI2 (Kelapa Gading)</td>\n",
       "      <td>82</td>\n",
       "      <td>112</td>\n",
       "      <td>56</td>\n",
       "      <td>12</td>\n",
       "      <td>41</td>\n",
       "      <td>27</td>\n",
       "      <td>TIDAK SEHAT</td>\n",
       "    </tr>\n",
       "    <tr>\n",
       "      <th>983</th>\n",
       "      <td>DKI3 (Jagakarsa)</td>\n",
       "      <td>60</td>\n",
       "      <td>84</td>\n",
       "      <td>47</td>\n",
       "      <td>7</td>\n",
       "      <td>23</td>\n",
       "      <td>18</td>\n",
       "      <td>SEDANG</td>\n",
       "    </tr>\n",
       "    <tr>\n",
       "      <th>747</th>\n",
       "      <td>DKI5 (Kebon Jeruk) Jakarta Barat</td>\n",
       "      <td>44</td>\n",
       "      <td>72</td>\n",
       "      <td>27</td>\n",
       "      <td>11</td>\n",
       "      <td>13</td>\n",
       "      <td>21</td>\n",
       "      <td>SEDANG</td>\n",
       "    </tr>\n",
       "  </tbody>\n",
       "</table>\n",
       "<p>1269 rows × 8 columns</p>\n",
       "</div>"
      ],
      "text/plain": [
       "                               stasiun  pm10  pm25  so2  co  o3  no2  \\\n",
       "1527                DKI1 (Bunderan HI)    25    42   20   8  18   22   \n",
       "433   DKI5 (Kebon Jeruk) Jakarta Barat    57    86   -1  16  19   30   \n",
       "1357  DKI5 (Kebon Jeruk) Jakarta Barat    24    35   21   7  22    9   \n",
       "1136              DKI2 (Kelapa Gading)    38    55   24  11  68    7   \n",
       "1097                DKI1 (Bunderan HI)    72   108   14  43  44   20   \n",
       "...                                ...   ...   ...  ...  ..  ..  ...   \n",
       "1802  DKI5 (Kebon Jeruk) Jakarta Barat    46    74   33   7  26   18   \n",
       "1433                  DKI3 (Jagakarsa)    35    55   42   7  29    9   \n",
       "977               DKI2 (Kelapa Gading)    82   112   56  12  41   27   \n",
       "983                   DKI3 (Jagakarsa)    60    84   47   7  23   18   \n",
       "747   DKI5 (Kebon Jeruk) Jakarta Barat    44    72   27  11  13   21   \n",
       "\n",
       "         categori  \n",
       "1527         BAIK  \n",
       "433        SEDANG  \n",
       "1357         BAIK  \n",
       "1136       SEDANG  \n",
       "1097  TIDAK SEHAT  \n",
       "...           ...  \n",
       "1802       SEDANG  \n",
       "1433       SEDANG  \n",
       "977   TIDAK SEHAT  \n",
       "983        SEDANG  \n",
       "747        SEDANG  \n",
       "\n",
       "[1269 rows x 8 columns]"
      ]
     },
     "execution_count": 30,
     "metadata": {},
     "output_type": "execute_result"
    }
   ],
   "source": [
    "dataset = pd.concat([x_train, y_train], axis = 1)\n",
    "dataset"
   ]
  },
  {
   "cell_type": "code",
   "execution_count": 31,
   "id": "b325480d",
   "metadata": {},
   "outputs": [],
   "source": [
    "dataset.replace(-1, np.nan, inplace=True)"
   ]
  },
  {
   "cell_type": "code",
   "execution_count": 32,
   "id": "d3fa3469",
   "metadata": {},
   "outputs": [
    {
     "data": {
      "text/plain": [
       "stasiun      0\n",
       "pm10        35\n",
       "pm25        55\n",
       "so2         68\n",
       "co          10\n",
       "o3          35\n",
       "no2          9\n",
       "categori     0\n",
       "dtype: int64"
      ]
     },
     "execution_count": 32,
     "metadata": {},
     "output_type": "execute_result"
    }
   ],
   "source": [
    "dataset.isna().sum()"
   ]
  },
  {
   "cell_type": "markdown",
   "id": "5161dc71",
   "metadata": {},
   "source": [
    "**[ CHECK SKEWNESS OF DATA ]**"
   ]
  },
  {
   "cell_type": "code",
   "execution_count": 33,
   "id": "fc73dce3",
   "metadata": {},
   "outputs": [
    {
     "data": {
      "text/plain": [
       "pm10   -0.196274\n",
       "pm25    0.315916\n",
       "so2     0.137343\n",
       "co      1.720796\n",
       "o3      1.688855\n",
       "no2     0.804295\n",
       "dtype: float64"
      ]
     },
     "execution_count": 33,
     "metadata": {},
     "output_type": "execute_result"
    }
   ],
   "source": [
    "dataset.skew(numeric_only=True)"
   ]
  },
  {
   "cell_type": "code",
   "execution_count": 34,
   "id": "6cc0ab95",
   "metadata": {},
   "outputs": [],
   "source": [
    "# Split dataset into 2 class \n",
    "dataset_baik = dataset[dataset.categori == \"BAIK\"].copy()\n",
    "dataset_tidak_baik = dataset[dataset.categori != \"BAIK\"].copy()"
   ]
  },
  {
   "cell_type": "code",
   "execution_count": 35,
   "id": "3c03ceae",
   "metadata": {},
   "outputs": [
    {
     "data": {
      "text/html": [
       "<div>\n",
       "<style scoped>\n",
       "    .dataframe tbody tr th:only-of-type {\n",
       "        vertical-align: middle;\n",
       "    }\n",
       "\n",
       "    .dataframe tbody tr th {\n",
       "        vertical-align: top;\n",
       "    }\n",
       "\n",
       "    .dataframe thead th {\n",
       "        text-align: right;\n",
       "    }\n",
       "</style>\n",
       "<table border=\"1\" class=\"dataframe\">\n",
       "  <thead>\n",
       "    <tr style=\"text-align: right;\">\n",
       "      <th></th>\n",
       "      <th>pm10</th>\n",
       "      <th>pm25</th>\n",
       "      <th>so2</th>\n",
       "      <th>co</th>\n",
       "      <th>o3</th>\n",
       "      <th>no2</th>\n",
       "    </tr>\n",
       "  </thead>\n",
       "  <tbody>\n",
       "    <tr>\n",
       "      <th>count</th>\n",
       "      <td>127.000000</td>\n",
       "      <td>97.000000</td>\n",
       "      <td>129.00000</td>\n",
       "      <td>132.000000</td>\n",
       "      <td>129.000000</td>\n",
       "      <td>126.000000</td>\n",
       "    </tr>\n",
       "    <tr>\n",
       "      <th>mean</th>\n",
       "      <td>28.259843</td>\n",
       "      <td>38.298969</td>\n",
       "      <td>25.27907</td>\n",
       "      <td>8.621212</td>\n",
       "      <td>26.147287</td>\n",
       "      <td>10.936508</td>\n",
       "    </tr>\n",
       "    <tr>\n",
       "      <th>std</th>\n",
       "      <td>7.966410</td>\n",
       "      <td>8.305577</td>\n",
       "      <td>11.15584</td>\n",
       "      <td>4.559246</td>\n",
       "      <td>11.102576</td>\n",
       "      <td>6.954418</td>\n",
       "    </tr>\n",
       "    <tr>\n",
       "      <th>min</th>\n",
       "      <td>14.000000</td>\n",
       "      <td>13.000000</td>\n",
       "      <td>3.00000</td>\n",
       "      <td>2.000000</td>\n",
       "      <td>7.000000</td>\n",
       "      <td>3.000000</td>\n",
       "    </tr>\n",
       "    <tr>\n",
       "      <th>25%</th>\n",
       "      <td>23.000000</td>\n",
       "      <td>33.000000</td>\n",
       "      <td>17.00000</td>\n",
       "      <td>6.000000</td>\n",
       "      <td>16.000000</td>\n",
       "      <td>6.000000</td>\n",
       "    </tr>\n",
       "    <tr>\n",
       "      <th>50%</th>\n",
       "      <td>27.000000</td>\n",
       "      <td>39.000000</td>\n",
       "      <td>23.00000</td>\n",
       "      <td>8.000000</td>\n",
       "      <td>24.000000</td>\n",
       "      <td>9.000000</td>\n",
       "    </tr>\n",
       "    <tr>\n",
       "      <th>75%</th>\n",
       "      <td>32.000000</td>\n",
       "      <td>45.000000</td>\n",
       "      <td>36.00000</td>\n",
       "      <td>11.000000</td>\n",
       "      <td>35.000000</td>\n",
       "      <td>13.000000</td>\n",
       "    </tr>\n",
       "    <tr>\n",
       "      <th>max</th>\n",
       "      <td>50.000000</td>\n",
       "      <td>50.000000</td>\n",
       "      <td>49.00000</td>\n",
       "      <td>28.000000</td>\n",
       "      <td>49.000000</td>\n",
       "      <td>49.000000</td>\n",
       "    </tr>\n",
       "  </tbody>\n",
       "</table>\n",
       "</div>"
      ],
      "text/plain": [
       "             pm10       pm25        so2          co          o3         no2\n",
       "count  127.000000  97.000000  129.00000  132.000000  129.000000  126.000000\n",
       "mean    28.259843  38.298969   25.27907    8.621212   26.147287   10.936508\n",
       "std      7.966410   8.305577   11.15584    4.559246   11.102576    6.954418\n",
       "min     14.000000  13.000000    3.00000    2.000000    7.000000    3.000000\n",
       "25%     23.000000  33.000000   17.00000    6.000000   16.000000    6.000000\n",
       "50%     27.000000  39.000000   23.00000    8.000000   24.000000    9.000000\n",
       "75%     32.000000  45.000000   36.00000   11.000000   35.000000   13.000000\n",
       "max     50.000000  50.000000   49.00000   28.000000   49.000000   49.000000"
      ]
     },
     "execution_count": 35,
     "metadata": {},
     "output_type": "execute_result"
    }
   ],
   "source": [
    "# Class 1\n",
    "dataset_baik.describe()"
   ]
  },
  {
   "cell_type": "code",
   "execution_count": 36,
   "id": "2af70f26",
   "metadata": {},
   "outputs": [
    {
     "data": {
      "text/html": [
       "<div>\n",
       "<style scoped>\n",
       "    .dataframe tbody tr th:only-of-type {\n",
       "        vertical-align: middle;\n",
       "    }\n",
       "\n",
       "    .dataframe tbody tr th {\n",
       "        vertical-align: top;\n",
       "    }\n",
       "\n",
       "    .dataframe thead th {\n",
       "        text-align: right;\n",
       "    }\n",
       "</style>\n",
       "<table border=\"1\" class=\"dataframe\">\n",
       "  <thead>\n",
       "    <tr style=\"text-align: right;\">\n",
       "      <th></th>\n",
       "      <th>pm10</th>\n",
       "      <th>pm25</th>\n",
       "      <th>so2</th>\n",
       "      <th>co</th>\n",
       "      <th>o3</th>\n",
       "      <th>no2</th>\n",
       "    </tr>\n",
       "  </thead>\n",
       "  <tbody>\n",
       "    <tr>\n",
       "      <th>count</th>\n",
       "      <td>1107.000000</td>\n",
       "      <td>1117.000000</td>\n",
       "      <td>1072.000000</td>\n",
       "      <td>1127.000000</td>\n",
       "      <td>1105.000000</td>\n",
       "      <td>1134.000000</td>\n",
       "    </tr>\n",
       "    <tr>\n",
       "      <th>mean</th>\n",
       "      <td>55.427281</td>\n",
       "      <td>82.760072</td>\n",
       "      <td>36.512127</td>\n",
       "      <td>11.989352</td>\n",
       "      <td>32.390950</td>\n",
       "      <td>20.354497</td>\n",
       "    </tr>\n",
       "    <tr>\n",
       "      <th>std</th>\n",
       "      <td>13.009139</td>\n",
       "      <td>22.550256</td>\n",
       "      <td>12.188599</td>\n",
       "      <td>4.862941</td>\n",
       "      <td>14.769274</td>\n",
       "      <td>8.824437</td>\n",
       "    </tr>\n",
       "    <tr>\n",
       "      <th>min</th>\n",
       "      <td>19.000000</td>\n",
       "      <td>21.000000</td>\n",
       "      <td>5.000000</td>\n",
       "      <td>3.000000</td>\n",
       "      <td>9.000000</td>\n",
       "      <td>1.000000</td>\n",
       "    </tr>\n",
       "    <tr>\n",
       "      <th>25%</th>\n",
       "      <td>48.000000</td>\n",
       "      <td>67.000000</td>\n",
       "      <td>27.000000</td>\n",
       "      <td>9.000000</td>\n",
       "      <td>23.000000</td>\n",
       "      <td>14.000000</td>\n",
       "    </tr>\n",
       "    <tr>\n",
       "      <th>50%</th>\n",
       "      <td>56.000000</td>\n",
       "      <td>81.000000</td>\n",
       "      <td>37.000000</td>\n",
       "      <td>11.000000</td>\n",
       "      <td>29.000000</td>\n",
       "      <td>19.000000</td>\n",
       "    </tr>\n",
       "    <tr>\n",
       "      <th>75%</th>\n",
       "      <td>63.500000</td>\n",
       "      <td>96.000000</td>\n",
       "      <td>45.000000</td>\n",
       "      <td>14.000000</td>\n",
       "      <td>38.000000</td>\n",
       "      <td>26.000000</td>\n",
       "    </tr>\n",
       "    <tr>\n",
       "      <th>max</th>\n",
       "      <td>100.000000</td>\n",
       "      <td>174.000000</td>\n",
       "      <td>82.000000</td>\n",
       "      <td>44.000000</td>\n",
       "      <td>151.000000</td>\n",
       "      <td>65.000000</td>\n",
       "    </tr>\n",
       "  </tbody>\n",
       "</table>\n",
       "</div>"
      ],
      "text/plain": [
       "              pm10         pm25          so2           co           o3  \\\n",
       "count  1107.000000  1117.000000  1072.000000  1127.000000  1105.000000   \n",
       "mean     55.427281    82.760072    36.512127    11.989352    32.390950   \n",
       "std      13.009139    22.550256    12.188599     4.862941    14.769274   \n",
       "min      19.000000    21.000000     5.000000     3.000000     9.000000   \n",
       "25%      48.000000    67.000000    27.000000     9.000000    23.000000   \n",
       "50%      56.000000    81.000000    37.000000    11.000000    29.000000   \n",
       "75%      63.500000    96.000000    45.000000    14.000000    38.000000   \n",
       "max     100.000000   174.000000    82.000000    44.000000   151.000000   \n",
       "\n",
       "               no2  \n",
       "count  1134.000000  \n",
       "mean     20.354497  \n",
       "std       8.824437  \n",
       "min       1.000000  \n",
       "25%      14.000000  \n",
       "50%      19.000000  \n",
       "75%      26.000000  \n",
       "max      65.000000  "
      ]
     },
     "execution_count": 36,
     "metadata": {},
     "output_type": "execute_result"
    }
   ],
   "source": [
    "# Class 0\n",
    "dataset_tidak_baik.describe()"
   ]
  },
  {
   "cell_type": "code",
   "execution_count": 37,
   "id": "b4b27a03",
   "metadata": {},
   "outputs": [
    {
     "data": {
      "text/plain": [
       "<matplotlib.lines.Line2D at 0x267083ae350>"
      ]
     },
     "execution_count": 37,
     "metadata": {},
     "output_type": "execute_result"
    },
    {
     "data": {
      "image/png": "[encoded data removed]",
      "text/plain": [
       "<Figure size 640x480 with 1 Axes>"
      ]
     },
     "metadata": {},
     "output_type": "display_data"
    }
   ],
   "source": [
    "# plot untuk melihat distribusi pm10 jika tidak dibedakan berdasarkan categori\n",
    "sns.kdeplot(data = dataset.replace(\"SEDANG\", \"TIDAK SEHAT\"), x = \"pm10\")\n",
    "plt.axvline(dataset.pm10.mean(), 0, 1, color = \"g\")"
   ]
  },
  {
   "cell_type": "code",
   "execution_count": 38,
   "id": "a45758a8",
   "metadata": {},
   "outputs": [
    {
     "data": {
      "text/plain": [
       "<matplotlib.lines.Line2D at 0x26709454550>"
      ]
     },
     "execution_count": 38,
     "metadata": {},
     "output_type": "execute_result"
    },
    {
     "data": {
      "image/png": "[encoded data removed]",
      "text/plain": [
       "<Figure size 640x480 with 1 Axes>"
      ]
     },
     "metadata": {},
     "output_type": "display_data"
    }
   ],
   "source": [
    "# plot untuk melihat distribusi pm10 jika dibedakan berdasarkan categori\n",
    "sns.kdeplot(data = dataset.replace(\"SEDANG\", \"TIDAK SEHAT\"), x = \"pm10\", hue = \"categori\")\n",
    "plt.axvline(dataset_tidak_baik.pm10.mean(), 0, 1, color = \"g\")\n",
    "plt.axvline(dataset_baik.pm10.mean(), 0, 1, color = \"k\")"
   ]
  },
  {
   "cell_type": "code",
   "execution_count": 39,
   "id": "7b122e45",
   "metadata": {},
   "outputs": [
    {
     "data": {
      "text/plain": [
       "<matplotlib.lines.Line2D at 0x267094d9950>"
      ]
     },
     "execution_count": 39,
     "metadata": {},
     "output_type": "execute_result"
    },
    {
     "data": {
      "image/png": "[encoded data removed]",
      "text/plain": [
       "<Figure size 640x480 with 1 Axes>"
      ]
     },
     "metadata": {},
     "output_type": "display_data"
    }
   ],
   "source": [
    "sns.kdeplot(data = dataset.replace(\"SEDANG\", \"TIDAK SEHAT\"), x = \"pm25\")\n",
    "plt.axvline(dataset.pm25.mean(), 0, 1, color = \"g\")"
   ]
  },
  {
   "cell_type": "code",
   "execution_count": 19,
   "id": "2a28ad74",
   "metadata": {},
   "outputs": [
    {
     "data": {
      "text/plain": [
       "<matplotlib.lines.Line2D at 0x267082fe850>"
      ]
     },
     "execution_count": 19,
     "metadata": {},
     "output_type": "execute_result"
    },
    {
     "data": {
      "image/png": "[encoded data removed]",
      "text/plain": [
       "<Figure size 640x480 with 1 Axes>"
      ]
     },
     "metadata": {},
     "output_type": "display_data"
    }
   ],
   "source": [
    "sns.kdeplot(data = dataset.replace(\"SEDANG\", \"TIDAK SEHAT\"), x = \"pm25\", hue=\"categori\")\n",
    "plt.axvline(dataset_tidak_baik.pm25.mean(), 0, 1, color = \"g\")\n",
    "plt.axvline(dataset_baik.pm25.mean(), 0, 1, color = \"k\")"
   ]
  },
  {
   "cell_type": "markdown",
   "id": "a4dd83be",
   "metadata": {},
   "source": [
    "- distribusi sangat dekat dengan normal (nilai skew fisher-pearson mendekati nol), imputasi mean\n",
    "- mean 2 kelas berbeda jauh, imputasi berdasarkan kelas\n",
    "- kesimpulan: untuk pm25 akan menggunakan mean dari perkelas untuk imputasi"
   ]
  },
  {
   "cell_type": "code",
   "execution_count": 47,
   "id": "9e524272",
   "metadata": {},
   "outputs": [
    {
     "data": {
      "text/plain": [
       "<matplotlib.lines.Line2D at 0x267099f5590>"
      ]
     },
     "execution_count": 47,
     "metadata": {},
     "output_type": "execute_result"
    },
    {
     "data": {
      "image/png": "[encoded data removed]",
      "text/plain": [
       "<Figure size 640x480 with 1 Axes>"
      ]
     },
     "metadata": {},
     "output_type": "display_data"
    }
   ],
   "source": [
    "sns.kdeplot(data = dataset.replace(\"SEDANG\", \"TIDAK SEHAT\"), x = \"so2\")\n",
    "plt.axvline(dataset.so2.mean(), color = \"g\")"
   ]
  },
  {
   "cell_type": "code",
   "execution_count": 43,
   "id": "c7cc5611",
   "metadata": {},
   "outputs": [
    {
     "data": {
      "text/plain": [
       "<matplotlib.lines.Line2D at 0x2670987f610>"
      ]
     },
     "execution_count": 43,
     "metadata": {},
     "output_type": "execute_result"
    },
    {
     "data": {
      "image/png": "[encoded data removed]",
      "text/plain": [
       "<Figure size 640x480 with 1 Axes>"
      ]
     },
     "metadata": {},
     "output_type": "display_data"
    }
   ],
   "source": [
    "sns.kdeplot(data = dataset.replace(\"SEDANG\", \"TIDAK SEHAT\"), x = \"so2\", hue = \"categori\")\n",
    "plt.axvline(dataset_tidak_baik.so2.mean(), 0, 1, color = \"g\")\n",
    "plt.axvline(dataset_baik.so2.mean(), 0, 1, color = \"k\")"
   ]
  },
  {
   "cell_type": "markdown",
   "id": "a3e0469e",
   "metadata": {},
   "source": [
    "- Data so2 terdistribusi dengan baik, skewness hampir mendekati 0\n",
    "- Mean dari dataset_baik & dataset_tidak_baik tidak terpaut jauh"
   ]
  },
  {
   "cell_type": "code",
   "execution_count": null,
   "id": "5914a0fe",
   "metadata": {},
   "outputs": [
    {
     "data": {
      "text/plain": [
       "<matplotlib.lines.Line2D at 0x26709af4550>"
      ]
     },
     "execution_count": 49,
     "metadata": {},
     "output_type": "execute_result"
    },
    {
     "data": {
      "image/png": "[encoded data removed]",
      "text/plain": [
       "<Figure size 640x480 with 1 Axes>"
      ]
     },
     "metadata": {},
     "output_type": "display_data"
    }
   ],
   "source": [
    "sns.kdeplot(data = dataset.replace(\"SEDANG\", \"TIDAK SEHAT\"), x = \"co\")\n",
    "plt.axvline(dataset.co.mean(), 0, 1, color = \"g\")"
   ]
  },
  {
   "cell_type": "code",
   "execution_count": 50,
   "id": "bf01914d",
   "metadata": {},
   "outputs": [
    {
     "data": {
      "text/plain": [
       "<matplotlib.lines.Line2D at 0x26709b61810>"
      ]
     },
     "execution_count": 50,
     "metadata": {},
     "output_type": "execute_result"
    },
    {
     "data": {
      "image/png": "[encoded data removed]",
      "text/plain": [
       "<Figure size 640x480 with 1 Axes>"
      ]
     },
     "metadata": {},
     "output_type": "display_data"
    }
   ],
   "source": [
    "sns.kdeplot(data = dataset.replace(\"SEDANG\", \"TIDAK SEHAT\"), x = \"co\", hue = \"categori\")\n",
    "plt.axvline(dataset_tidak_baik.co.median(), 0, 1, color = \"g\")\n",
    "plt.axvline(dataset_baik.co.median(), 0, 1, color = \"k\")"
   ]
  },
  {
   "cell_type": "markdown",
   "id": "cb606aa6",
   "metadata": {},
   "source": [
    "- Distribusi dari data \"co\" mengalami skewness, skew ke arah kanan (positive)\n",
    "- Gunakan median agar tidak terpengaruh outliers\n",
    "- Dikarenakan nilai median yang tidak terlalu jauh, maka gunakan median dari kedua class tersebut"
   ]
  },
  {
   "cell_type": "code",
   "execution_count": 51,
   "id": "77154cbe",
   "metadata": {},
   "outputs": [
    {
     "data": {
      "text/plain": [
       "<matplotlib.lines.Line2D at 0x26709be5450>"
      ]
     },
     "execution_count": 51,
     "metadata": {},
     "output_type": "execute_result"
    },
    {
     "data": {
      "image/png": "[encoded data removed]",
      "text/plain": [
       "<Figure size 640x480 with 1 Axes>"
      ]
     },
     "metadata": {},
     "output_type": "display_data"
    }
   ],
   "source": [
    "sns.kdeplot(data = dataset.replace(\"SEDANG\", \"TIDAK SEHAT\"), x = \"no2\")\n",
    "plt.axvline(dataset.no2.mean(), 0, 1, color = \"g\")"
   ]
  },
  {
   "cell_type": "code",
   "execution_count": 52,
   "id": "2f035177",
   "metadata": {},
   "outputs": [
    {
     "data": {
      "text/plain": [
       "<matplotlib.lines.Line2D at 0x26709c4b610>"
      ]
     },
     "execution_count": 52,
     "metadata": {},
     "output_type": "execute_result"
    },
    {
     "data": {
      "image/png": "[encoded data removed]",
      "text/plain": [
       "<Figure size 640x480 with 1 Axes>"
      ]
     },
     "metadata": {},
     "output_type": "display_data"
    }
   ],
   "source": [
    "sns.kdeplot(data = dataset.replace(\"SEDANG\", \"TIDAK SEHAT\"), x = \"no2\", hue = \"categori\")\n",
    "plt.axvline(dataset_tidak_baik.no2.median(), 0, 1, color = \"g\")\n",
    "plt.axvline(dataset_baik.no2.median(), 0, 1, color = \"k\")"
   ]
  },
  {
   "cell_type": "code",
   "execution_count": 53,
   "id": "5cf17417",
   "metadata": {},
   "outputs": [
    {
     "data": {
      "text/plain": [
       "<Axes: >"
      ]
     },
     "execution_count": 53,
     "metadata": {},
     "output_type": "execute_result"
    },
    {
     "data": {
      "image/png": "[encoded data removed]",
      "text/plain": [
       "<Figure size 640x480 with 2 Axes>"
      ]
     },
     "metadata": {},
     "output_type": "display_data"
    }
   ],
   "source": [
    "sns.heatmap(dataset.corr(numeric_only = True))"
   ]
  },
  {
   "cell_type": "markdown",
   "id": "e76b84d8",
   "metadata": {},
   "source": [
    "# T Test untuk PM10\n",
    "- h0    = mean pm10 untuk kelas 0 = mean pm10 untuk kelas 1\n",
    "- h1    = mean pm10 untuk kelas 0 != mean pm10 untuk kelas 1"
   ]
  },
  {
   "cell_type": "code",
   "execution_count": 57,
   "id": "4334b5a1",
   "metadata": {},
   "outputs": [
    {
     "data": {
      "text/html": [
       "<div>\n",
       "<style scoped>\n",
       "    .dataframe tbody tr th:only-of-type {\n",
       "        vertical-align: middle;\n",
       "    }\n",
       "\n",
       "    .dataframe tbody tr th {\n",
       "        vertical-align: top;\n",
       "    }\n",
       "\n",
       "    .dataframe thead th {\n",
       "        text-align: right;\n",
       "    }\n",
       "</style>\n",
       "<table border=\"1\" class=\"dataframe\">\n",
       "  <thead>\n",
       "    <tr style=\"text-align: right;\">\n",
       "      <th></th>\n",
       "      <th>stasiun</th>\n",
       "      <th>pm10</th>\n",
       "      <th>pm25</th>\n",
       "      <th>so2</th>\n",
       "      <th>co</th>\n",
       "      <th>o3</th>\n",
       "      <th>no2</th>\n",
       "      <th>categori</th>\n",
       "    </tr>\n",
       "  </thead>\n",
       "  <tbody>\n",
       "    <tr>\n",
       "      <th>535</th>\n",
       "      <td>DKI3 (Jagakarsa)</td>\n",
       "      <td>NaN</td>\n",
       "      <td>86.0</td>\n",
       "      <td>49.0</td>\n",
       "      <td>11.0</td>\n",
       "      <td>29.0</td>\n",
       "      <td>1.0</td>\n",
       "      <td>SEDANG</td>\n",
       "    </tr>\n",
       "    <tr>\n",
       "      <th>1596</th>\n",
       "      <td>DKI3 (Jagakarsa)</td>\n",
       "      <td>NaN</td>\n",
       "      <td>69.0</td>\n",
       "      <td>27.0</td>\n",
       "      <td>15.0</td>\n",
       "      <td>NaN</td>\n",
       "      <td>16.0</td>\n",
       "      <td>SEDANG</td>\n",
       "    </tr>\n",
       "    <tr>\n",
       "      <th>273</th>\n",
       "      <td>DKI4 (Lubang Buaya)</td>\n",
       "      <td>NaN</td>\n",
       "      <td>79.0</td>\n",
       "      <td>NaN</td>\n",
       "      <td>NaN</td>\n",
       "      <td>NaN</td>\n",
       "      <td>NaN</td>\n",
       "      <td>SEDANG</td>\n",
       "    </tr>\n",
       "    <tr>\n",
       "      <th>534</th>\n",
       "      <td>DKI3 (Jagakarsa)</td>\n",
       "      <td>NaN</td>\n",
       "      <td>58.0</td>\n",
       "      <td>43.0</td>\n",
       "      <td>6.0</td>\n",
       "      <td>25.0</td>\n",
       "      <td>4.0</td>\n",
       "      <td>SEDANG</td>\n",
       "    </tr>\n",
       "    <tr>\n",
       "      <th>110</th>\n",
       "      <td>DKI4 (Lubang Buaya)</td>\n",
       "      <td>NaN</td>\n",
       "      <td>99.0</td>\n",
       "      <td>44.0</td>\n",
       "      <td>9.0</td>\n",
       "      <td>32.0</td>\n",
       "      <td>20.0</td>\n",
       "      <td>SEDANG</td>\n",
       "    </tr>\n",
       "    <tr>\n",
       "      <th>529</th>\n",
       "      <td>DKI3 (Jagakarsa)</td>\n",
       "      <td>NaN</td>\n",
       "      <td>94.0</td>\n",
       "      <td>19.0</td>\n",
       "      <td>11.0</td>\n",
       "      <td>25.0</td>\n",
       "      <td>14.0</td>\n",
       "      <td>SEDANG</td>\n",
       "    </tr>\n",
       "    <tr>\n",
       "      <th>113</th>\n",
       "      <td>DKI4 (Lubang Buaya)</td>\n",
       "      <td>NaN</td>\n",
       "      <td>109.0</td>\n",
       "      <td>46.0</td>\n",
       "      <td>8.0</td>\n",
       "      <td>21.0</td>\n",
       "      <td>18.0</td>\n",
       "      <td>TIDAK SEHAT</td>\n",
       "    </tr>\n",
       "    <tr>\n",
       "      <th>243</th>\n",
       "      <td>DKI4 (Lubang Buaya)</td>\n",
       "      <td>NaN</td>\n",
       "      <td>91.0</td>\n",
       "      <td>45.0</td>\n",
       "      <td>10.0</td>\n",
       "      <td>35.0</td>\n",
       "      <td>33.0</td>\n",
       "      <td>SEDANG</td>\n",
       "    </tr>\n",
       "    <tr>\n",
       "      <th>119</th>\n",
       "      <td>DKI4 (Lubang Buaya)</td>\n",
       "      <td>NaN</td>\n",
       "      <td>117.0</td>\n",
       "      <td>45.0</td>\n",
       "      <td>13.0</td>\n",
       "      <td>40.0</td>\n",
       "      <td>27.0</td>\n",
       "      <td>TIDAK SEHAT</td>\n",
       "    </tr>\n",
       "    <tr>\n",
       "      <th>531</th>\n",
       "      <td>DKI3 (Jagakarsa)</td>\n",
       "      <td>NaN</td>\n",
       "      <td>79.0</td>\n",
       "      <td>21.0</td>\n",
       "      <td>8.0</td>\n",
       "      <td>33.0</td>\n",
       "      <td>14.0</td>\n",
       "      <td>SEDANG</td>\n",
       "    </tr>\n",
       "    <tr>\n",
       "      <th>255</th>\n",
       "      <td>DKI4 (Lubang Buaya)</td>\n",
       "      <td>NaN</td>\n",
       "      <td>91.0</td>\n",
       "      <td>44.0</td>\n",
       "      <td>8.0</td>\n",
       "      <td>38.0</td>\n",
       "      <td>19.0</td>\n",
       "      <td>SEDANG</td>\n",
       "    </tr>\n",
       "    <tr>\n",
       "      <th>1147</th>\n",
       "      <td>DKI3 (Jagakarsa)</td>\n",
       "      <td>NaN</td>\n",
       "      <td>72.0</td>\n",
       "      <td>17.0</td>\n",
       "      <td>15.0</td>\n",
       "      <td>56.0</td>\n",
       "      <td>4.0</td>\n",
       "      <td>SEDANG</td>\n",
       "    </tr>\n",
       "    <tr>\n",
       "      <th>112</th>\n",
       "      <td>DKI4 (Lubang Buaya)</td>\n",
       "      <td>NaN</td>\n",
       "      <td>116.0</td>\n",
       "      <td>43.0</td>\n",
       "      <td>9.0</td>\n",
       "      <td>24.0</td>\n",
       "      <td>18.0</td>\n",
       "      <td>TIDAK SEHAT</td>\n",
       "    </tr>\n",
       "    <tr>\n",
       "      <th>1343</th>\n",
       "      <td>DKI5 (Kebon Jeruk) Jakarta Barat</td>\n",
       "      <td>NaN</td>\n",
       "      <td>55.0</td>\n",
       "      <td>28.0</td>\n",
       "      <td>9.0</td>\n",
       "      <td>14.0</td>\n",
       "      <td>25.0</td>\n",
       "      <td>SEDANG</td>\n",
       "    </tr>\n",
       "    <tr>\n",
       "      <th>256</th>\n",
       "      <td>DKI4 (Lubang Buaya)</td>\n",
       "      <td>NaN</td>\n",
       "      <td>131.0</td>\n",
       "      <td>44.0</td>\n",
       "      <td>12.0</td>\n",
       "      <td>45.0</td>\n",
       "      <td>32.0</td>\n",
       "      <td>TIDAK SEHAT</td>\n",
       "    </tr>\n",
       "    <tr>\n",
       "      <th>244</th>\n",
       "      <td>DKI4 (Lubang Buaya)</td>\n",
       "      <td>NaN</td>\n",
       "      <td>127.0</td>\n",
       "      <td>46.0</td>\n",
       "      <td>10.0</td>\n",
       "      <td>35.0</td>\n",
       "      <td>19.0</td>\n",
       "      <td>TIDAK SEHAT</td>\n",
       "    </tr>\n",
       "    <tr>\n",
       "      <th>533</th>\n",
       "      <td>DKI3 (Jagakarsa)</td>\n",
       "      <td>NaN</td>\n",
       "      <td>65.0</td>\n",
       "      <td>18.0</td>\n",
       "      <td>7.0</td>\n",
       "      <td>24.0</td>\n",
       "      <td>11.0</td>\n",
       "      <td>SEDANG</td>\n",
       "    </tr>\n",
       "    <tr>\n",
       "      <th>349</th>\n",
       "      <td>DKI2 (Kelapa Gading)</td>\n",
       "      <td>NaN</td>\n",
       "      <td>57.0</td>\n",
       "      <td>NaN</td>\n",
       "      <td>9.0</td>\n",
       "      <td>36.0</td>\n",
       "      <td>17.0</td>\n",
       "      <td>SEDANG</td>\n",
       "    </tr>\n",
       "    <tr>\n",
       "      <th>745</th>\n",
       "      <td>DKI5 (Kebon Jeruk) Jakarta Barat</td>\n",
       "      <td>NaN</td>\n",
       "      <td>70.0</td>\n",
       "      <td>32.0</td>\n",
       "      <td>10.0</td>\n",
       "      <td>20.0</td>\n",
       "      <td>17.0</td>\n",
       "      <td>SEDANG</td>\n",
       "    </tr>\n",
       "    <tr>\n",
       "      <th>961</th>\n",
       "      <td>DKI2 (Kelapa Gading)</td>\n",
       "      <td>NaN</td>\n",
       "      <td>NaN</td>\n",
       "      <td>54.0</td>\n",
       "      <td>10.0</td>\n",
       "      <td>54.0</td>\n",
       "      <td>13.0</td>\n",
       "      <td>SEDANG</td>\n",
       "    </tr>\n",
       "    <tr>\n",
       "      <th>1480</th>\n",
       "      <td>DKI4 (Lubang Buaya)</td>\n",
       "      <td>NaN</td>\n",
       "      <td>69.0</td>\n",
       "      <td>42.0</td>\n",
       "      <td>13.0</td>\n",
       "      <td>24.0</td>\n",
       "      <td>17.0</td>\n",
       "      <td>SEDANG</td>\n",
       "    </tr>\n",
       "    <tr>\n",
       "      <th>111</th>\n",
       "      <td>DKI4 (Lubang Buaya)</td>\n",
       "      <td>NaN</td>\n",
       "      <td>119.0</td>\n",
       "      <td>44.0</td>\n",
       "      <td>10.0</td>\n",
       "      <td>22.0</td>\n",
       "      <td>21.0</td>\n",
       "      <td>TIDAK SEHAT</td>\n",
       "    </tr>\n",
       "    <tr>\n",
       "      <th>1603</th>\n",
       "      <td>DKI3 (Jagakarsa)</td>\n",
       "      <td>NaN</td>\n",
       "      <td>92.0</td>\n",
       "      <td>22.0</td>\n",
       "      <td>9.0</td>\n",
       "      <td>36.0</td>\n",
       "      <td>18.0</td>\n",
       "      <td>SEDANG</td>\n",
       "    </tr>\n",
       "    <tr>\n",
       "      <th>528</th>\n",
       "      <td>DKI3 (Jagakarsa)</td>\n",
       "      <td>NaN</td>\n",
       "      <td>96.0</td>\n",
       "      <td>21.0</td>\n",
       "      <td>10.0</td>\n",
       "      <td>29.0</td>\n",
       "      <td>15.0</td>\n",
       "      <td>SEDANG</td>\n",
       "    </tr>\n",
       "    <tr>\n",
       "      <th>527</th>\n",
       "      <td>DKI3 (Jagakarsa)</td>\n",
       "      <td>NaN</td>\n",
       "      <td>89.0</td>\n",
       "      <td>26.0</td>\n",
       "      <td>8.0</td>\n",
       "      <td>34.0</td>\n",
       "      <td>13.0</td>\n",
       "      <td>SEDANG</td>\n",
       "    </tr>\n",
       "    <tr>\n",
       "      <th>116</th>\n",
       "      <td>DKI4 (Lubang Buaya)</td>\n",
       "      <td>NaN</td>\n",
       "      <td>89.0</td>\n",
       "      <td>42.0</td>\n",
       "      <td>11.0</td>\n",
       "      <td>29.0</td>\n",
       "      <td>19.0</td>\n",
       "      <td>SEDANG</td>\n",
       "    </tr>\n",
       "    <tr>\n",
       "      <th>532</th>\n",
       "      <td>DKI3 (Jagakarsa)</td>\n",
       "      <td>NaN</td>\n",
       "      <td>68.0</td>\n",
       "      <td>18.0</td>\n",
       "      <td>7.0</td>\n",
       "      <td>29.0</td>\n",
       "      <td>10.0</td>\n",
       "      <td>SEDANG</td>\n",
       "    </tr>\n",
       "    <tr>\n",
       "      <th>118</th>\n",
       "      <td>DKI4 (Lubang Buaya)</td>\n",
       "      <td>NaN</td>\n",
       "      <td>102.0</td>\n",
       "      <td>45.0</td>\n",
       "      <td>13.0</td>\n",
       "      <td>38.0</td>\n",
       "      <td>24.0</td>\n",
       "      <td>TIDAK SEHAT</td>\n",
       "    </tr>\n",
       "    <tr>\n",
       "      <th>536</th>\n",
       "      <td>DKI3 (Jagakarsa)</td>\n",
       "      <td>NaN</td>\n",
       "      <td>81.0</td>\n",
       "      <td>37.0</td>\n",
       "      <td>7.0</td>\n",
       "      <td>29.0</td>\n",
       "      <td>11.0</td>\n",
       "      <td>SEDANG</td>\n",
       "    </tr>\n",
       "    <tr>\n",
       "      <th>1148</th>\n",
       "      <td>DKI3 (Jagakarsa)</td>\n",
       "      <td>NaN</td>\n",
       "      <td>58.0</td>\n",
       "      <td>18.0</td>\n",
       "      <td>9.0</td>\n",
       "      <td>37.0</td>\n",
       "      <td>4.0</td>\n",
       "      <td>SEDANG</td>\n",
       "    </tr>\n",
       "  </tbody>\n",
       "</table>\n",
       "</div>"
      ],
      "text/plain": [
       "                               stasiun  pm10   pm25   so2    co    o3   no2  \\\n",
       "535                   DKI3 (Jagakarsa)   NaN   86.0  49.0  11.0  29.0   1.0   \n",
       "1596                  DKI3 (Jagakarsa)   NaN   69.0  27.0  15.0   NaN  16.0   \n",
       "273                DKI4 (Lubang Buaya)   NaN   79.0   NaN   NaN   NaN   NaN   \n",
       "534                   DKI3 (Jagakarsa)   NaN   58.0  43.0   6.0  25.0   4.0   \n",
       "110                DKI4 (Lubang Buaya)   NaN   99.0  44.0   9.0  32.0  20.0   \n",
       "529                   DKI3 (Jagakarsa)   NaN   94.0  19.0  11.0  25.0  14.0   \n",
       "113                DKI4 (Lubang Buaya)   NaN  109.0  46.0   8.0  21.0  18.0   \n",
       "243                DKI4 (Lubang Buaya)   NaN   91.0  45.0  10.0  35.0  33.0   \n",
       "119                DKI4 (Lubang Buaya)   NaN  117.0  45.0  13.0  40.0  27.0   \n",
       "531                   DKI3 (Jagakarsa)   NaN   79.0  21.0   8.0  33.0  14.0   \n",
       "255                DKI4 (Lubang Buaya)   NaN   91.0  44.0   8.0  38.0  19.0   \n",
       "1147                  DKI3 (Jagakarsa)   NaN   72.0  17.0  15.0  56.0   4.0   \n",
       "112                DKI4 (Lubang Buaya)   NaN  116.0  43.0   9.0  24.0  18.0   \n",
       "1343  DKI5 (Kebon Jeruk) Jakarta Barat   NaN   55.0  28.0   9.0  14.0  25.0   \n",
       "256                DKI4 (Lubang Buaya)   NaN  131.0  44.0  12.0  45.0  32.0   \n",
       "244                DKI4 (Lubang Buaya)   NaN  127.0  46.0  10.0  35.0  19.0   \n",
       "533                   DKI3 (Jagakarsa)   NaN   65.0  18.0   7.0  24.0  11.0   \n",
       "349               DKI2 (Kelapa Gading)   NaN   57.0   NaN   9.0  36.0  17.0   \n",
       "745   DKI5 (Kebon Jeruk) Jakarta Barat   NaN   70.0  32.0  10.0  20.0  17.0   \n",
       "961               DKI2 (Kelapa Gading)   NaN    NaN  54.0  10.0  54.0  13.0   \n",
       "1480               DKI4 (Lubang Buaya)   NaN   69.0  42.0  13.0  24.0  17.0   \n",
       "111                DKI4 (Lubang Buaya)   NaN  119.0  44.0  10.0  22.0  21.0   \n",
       "1603                  DKI3 (Jagakarsa)   NaN   92.0  22.0   9.0  36.0  18.0   \n",
       "528                   DKI3 (Jagakarsa)   NaN   96.0  21.0  10.0  29.0  15.0   \n",
       "527                   DKI3 (Jagakarsa)   NaN   89.0  26.0   8.0  34.0  13.0   \n",
       "116                DKI4 (Lubang Buaya)   NaN   89.0  42.0  11.0  29.0  19.0   \n",
       "532                   DKI3 (Jagakarsa)   NaN   68.0  18.0   7.0  29.0  10.0   \n",
       "118                DKI4 (Lubang Buaya)   NaN  102.0  45.0  13.0  38.0  24.0   \n",
       "536                   DKI3 (Jagakarsa)   NaN   81.0  37.0   7.0  29.0  11.0   \n",
       "1148                  DKI3 (Jagakarsa)   NaN   58.0  18.0   9.0  37.0   4.0   \n",
       "\n",
       "         categori  \n",
       "535        SEDANG  \n",
       "1596       SEDANG  \n",
       "273        SEDANG  \n",
       "534        SEDANG  \n",
       "110        SEDANG  \n",
       "529        SEDANG  \n",
       "113   TIDAK SEHAT  \n",
       "243        SEDANG  \n",
       "119   TIDAK SEHAT  \n",
       "531        SEDANG  \n",
       "255        SEDANG  \n",
       "1147       SEDANG  \n",
       "112   TIDAK SEHAT  \n",
       "1343       SEDANG  \n",
       "256   TIDAK SEHAT  \n",
       "244   TIDAK SEHAT  \n",
       "533        SEDANG  \n",
       "349        SEDANG  \n",
       "745        SEDANG  \n",
       "961        SEDANG  \n",
       "1480       SEDANG  \n",
       "111   TIDAK SEHAT  \n",
       "1603       SEDANG  \n",
       "528        SEDANG  \n",
       "527        SEDANG  \n",
       "116        SEDANG  \n",
       "532        SEDANG  \n",
       "118   TIDAK SEHAT  \n",
       "536        SEDANG  \n",
       "1148       SEDANG  "
      ]
     },
     "execution_count": 57,
     "metadata": {},
     "output_type": "execute_result"
    }
   ],
   "source": [
    "# dataset_baik[dataset_baik.pm10.isnull() == True]\n",
    "dataset_tidak_baik[dataset_tidak_baik.pm10.isnull() == True]"
   ]
  },
  {
   "cell_type": "code",
   "execution_count": 54,
   "id": "b2276c05",
   "metadata": {},
   "outputs": [
    {
     "data": {
      "text/plain": [
       "TtestResult(statistic=np.float64(-23.03890903177555), pvalue=np.float64(5.926662098072182e-98), df=np.float64(1232.0))"
      ]
     },
     "execution_count": 54,
     "metadata": {},
     "output_type": "execute_result"
    }
   ],
   "source": [
    "# perform t-test untuk 2 variabel\n",
    "scs.ttest_ind(\n",
    "    dataset_baik[dataset_baik.pm10.isnull() != True].pm10,\n",
    "    dataset_tidak_baik[dataset_tidak_baik.pm10.isnull() != True].pm10\n",
    ")"
   ]
  },
  {
   "cell_type": "markdown",
   "id": "02f5c090",
   "metadata": {},
   "source": [
    "- pValue yang dihasilkan adalah sekitar 5.93 x 10^(-8). pValue yang sangat kecil ini menunjukkan bahwa perbedaan antara kedua kelompok adalah sangat signifikan secara statistik. Biasanya, jika pValue < 0.05, kita menolak hipotesis nol yang menyatakan bahwa \"tidak ada perbedaan antara kedua kelompok\"."
   ]
  },
  {
   "cell_type": "code",
   "execution_count": null,
   "id": "5fff4ada",
   "metadata": {},
   "outputs": [
    {
     "data": {
      "text/plain": [
       "np.float64(-1.64605717129089)"
      ]
     },
     "execution_count": 55,
     "metadata": {},
     "output_type": "execute_result"
    }
   ],
   "source": [
    "# nilai t critical untuk alpha 0.05\n",
    "# rumus df = n1 + n2 - 2\n",
    "# n1 = len of data[kelas1]\n",
    "# n2 = len of data[kelas2]\n",
    "scs.t.ppf(0.05, df = (len(dataset) - 2))"
   ]
  },
  {
   "cell_type": "markdown",
   "id": "0c2bfc2b",
   "metadata": {},
   "source": [
    "- dengan nilai t-value (statistic pada TestResult = -23.0389) < t-critical (-1.6460) dan nilai p-value < 0.05 maka h0 di reject\n",
    "- mean antara kelas 0 dan kelas 1 untuk pm10 statistically significant"
   ]
  },
  {
   "cell_type": "markdown",
   "id": "f8374bd9",
   "metadata": {},
   "source": [
    "# T Test untuk PM25\n",
    "- h0    = mean pm25 untuk kelas 0 = mean pm25 untuk kelas 1\n",
    "- h1    = mean pm25 untuk kelas 0 != mean pm25 untuk kelas 1"
   ]
  },
  {
   "cell_type": "code",
   "execution_count": 58,
   "id": "6c6822f3",
   "metadata": {},
   "outputs": [
    {
     "data": {
      "text/plain": [
       "TtestResult(statistic=np.float64(-19.298865811060065), pvalue=np.float64(1.413091762591775e-72), df=np.float64(1212.0))"
      ]
     },
     "execution_count": 58,
     "metadata": {},
     "output_type": "execute_result"
    }
   ],
   "source": [
    "# perform t-test untuk 2 variabel\n",
    "scs.ttest_ind(\n",
    "    dataset_baik[dataset_baik.pm25.isnull() != True].pm25,\n",
    "    dataset_tidak_baik[dataset_tidak_baik.pm25.isnull() != True].pm25\n",
    ")"
   ]
  },
  {
   "cell_type": "code",
   "execution_count": 59,
   "id": "df219ec7",
   "metadata": {},
   "outputs": [
    {
     "data": {
      "text/plain": [
       "np.float64(-1.64605717129089)"
      ]
     },
     "execution_count": 59,
     "metadata": {},
     "output_type": "execute_result"
    }
   ],
   "source": [
    "scs.t.ppf(0.05, df = (len(dataset) - 2))"
   ]
  },
  {
   "cell_type": "markdown",
   "id": "9e1ad18c",
   "metadata": {},
   "source": [
    "- Hasilnya sama seperti sebelumnya h0 ditolak, mean antara kelas 0 dan kelas 1 untuk pm25 statistically significant maka dari itu gunakan nilai mean dari masing2 kelas"
   ]
  },
  {
   "cell_type": "markdown",
   "id": "1e5f9241",
   "metadata": {},
   "source": [
    "# T Test untuk SO2\n",
    "- h0    = mean so2 untuk kelas 0 = mean so2 untuk kelas 1\n",
    "- h1    = mean so2 untuk kelas 0 != mean so2 untuk kelas 1"
   ]
  },
  {
   "cell_type": "code",
   "execution_count": 60,
   "id": "a3b15113",
   "metadata": {},
   "outputs": [
    {
     "data": {
      "text/plain": [
       "TtestResult(statistic=np.float64(-9.97607953790784), pvalue=np.float64(1.4294113813260584e-22), df=np.float64(1199.0))"
      ]
     },
     "execution_count": 60,
     "metadata": {},
     "output_type": "execute_result"
    }
   ],
   "source": [
    "scs.ttest_ind(\n",
    "    dataset_baik[dataset_baik.so2.isnull() != True].so2,\n",
    "    dataset_tidak_baik[dataset_tidak_baik.so2.isnull() != True].so2\n",
    ")"
   ]
  },
  {
   "cell_type": "code",
   "execution_count": 62,
   "id": "bf9200e4",
   "metadata": {},
   "outputs": [
    {
     "name": "stdout",
     "output_type": "stream",
     "text": [
      "t-critical = -1.64605717129089\n"
     ]
    }
   ],
   "source": [
    "# nilai t critical untuk alpha 0.05\n",
    "scs.t.ppf(0.05, df = (len(dataset) - 2))\n",
    "print(f\"t-critical = {scs.t.ppf(0.05, df = (len(dataset) - 2))}\")"
   ]
  },
  {
   "cell_type": "markdown",
   "id": "8a876a70",
   "metadata": {},
   "source": [
    "dengan nilai t-value < t-critical dan nilai p-value < 0.05 maka h0 di reject karena mean antara kelas 0 dan kelas 1 untuk so2 statistically significant"
   ]
  },
  {
   "cell_type": "markdown",
   "id": "35e05f7c",
   "metadata": {},
   "source": [
    "# T Test untuk CO\n",
    "- h0    = mean co untuk kelas 0 = mean co untuk kelas 1\n",
    "- h1    = mean co untuk kelas 0 != mean co untuk kelas 1"
   ]
  },
  {
   "cell_type": "code",
   "execution_count": 63,
   "id": "ea439a70",
   "metadata": {},
   "outputs": [
    {
     "data": {
      "text/plain": [
       "TtestResult(statistic=np.float64(-7.5767489321394645), pvalue=np.float64(6.843760773275538e-14), df=np.float64(1257.0))"
      ]
     },
     "execution_count": 63,
     "metadata": {},
     "output_type": "execute_result"
    }
   ],
   "source": [
    "scs.ttest_ind(\n",
    "    dataset_baik[dataset_baik.co.isnull() != True].co,\n",
    "    dataset_tidak_baik[dataset_tidak_baik.co.isnull() != True].co\n",
    ")"
   ]
  },
  {
   "cell_type": "code",
   "execution_count": 64,
   "id": "0881ca01",
   "metadata": {},
   "outputs": [
    {
     "data": {
      "text/plain": [
       "np.float64(-1.64605717129089)"
      ]
     },
     "execution_count": 64,
     "metadata": {},
     "output_type": "execute_result"
    }
   ],
   "source": [
    "scs.t.ppf(0.05, df = (len(dataset) - 2))"
   ]
  },
  {
   "cell_type": "markdown",
   "id": "7314fcbd",
   "metadata": {},
   "source": [
    "- maka h0 ditolak karena nilai t-value (-7.576) < t-critical (-1.646) dan pValue (6.843 x 10^(-14))  < 0,05 sehingga h0 ditolak. maka nilai mean pada kelas 0 dan kelas 1 statistically significant"
   ]
  },
  {
   "cell_type": "markdown",
   "id": "afa296a9",
   "metadata": {},
   "source": [
    "# T Test untuk O3\n",
    "- h0    = mean o3 untuk kelas 0 = mean o3 untuk kelas 1\n",
    "- h1    = mean o3 untuk kelas 0 != mean o3 untuk kelas 1"
   ]
  },
  {
   "cell_type": "code",
   "execution_count": 65,
   "id": "ee301739",
   "metadata": {},
   "outputs": [
    {
     "data": {
      "text/plain": [
       "TtestResult(statistic=np.float64(-5.8147582595935665), pvalue=np.float64(2.6119427965574716e-08), df=np.float64(185.43084409304618))"
      ]
     },
     "execution_count": 65,
     "metadata": {},
     "output_type": "execute_result"
    }
   ],
   "source": [
    "scs.ttest_ind(\n",
    "    dataset_baik[dataset_baik.o3.isnull() != True].o3,\n",
    "    dataset_tidak_baik[dataset_tidak_baik.o3.isnull() != True].o3,\n",
    "    equal_var = False\n",
    ")"
   ]
  },
  {
   "cell_type": "code",
   "execution_count": 66,
   "id": "7a31ddfd",
   "metadata": {},
   "outputs": [
    {
     "data": {
      "text/plain": [
       "np.float64(-1.64605717129089)"
      ]
     },
     "execution_count": 66,
     "metadata": {},
     "output_type": "execute_result"
    }
   ],
   "source": [
    "scs.t.ppf(0.05, df = (len(dataset) - 2))"
   ]
  },
  {
   "cell_type": "markdown",
   "id": "8ea2c8c8",
   "metadata": {},
   "source": [
    "# T Test untuk NO2\n",
    "- h0    = mean no2 untuk kelas 0 = mean no2 untuk kelas 1\n",
    "- h1    = mean no2 untuk kelas 0 != mean no2 untuk kelas 1"
   ]
  },
  {
   "cell_type": "code",
   "execution_count": 67,
   "id": "bd98b3d5",
   "metadata": {},
   "outputs": [
    {
     "data": {
      "text/plain": [
       "TtestResult(statistic=np.float64(-11.585410291439977), pvalue=np.float64(1.4565248067047608e-29), df=np.float64(1258.0))"
      ]
     },
     "execution_count": 67,
     "metadata": {},
     "output_type": "execute_result"
    }
   ],
   "source": [
    "scs.ttest_ind(\n",
    "    dataset_baik[dataset_baik.no2.isnull() != True].no2,\n",
    "    dataset_tidak_baik[dataset_tidak_baik.no2.isnull() != True].no2\n",
    ")"
   ]
  },
  {
   "cell_type": "code",
   "execution_count": 68,
   "id": "6f784ed4",
   "metadata": {},
   "outputs": [
    {
     "data": {
      "text/plain": [
       "np.float64(-1.64605717129089)"
      ]
     },
     "execution_count": 68,
     "metadata": {},
     "output_type": "execute_result"
    }
   ],
   "source": [
    "scs.t.ppf(0.05, df = (len(dataset) - 2))"
   ]
  },
  {
   "cell_type": "markdown",
   "id": "ef235b3e",
   "metadata": {},
   "source": [
    "- maka h0 ditolak karena nilai t-value (-11.585) < t-critical (-1.646) dan pValue (1.456 x 10^(-29))  < 0,05 sehingga h0 ditolak. maka nilai mean pada kelas 0 dan kelas 1 statistically significant"
   ]
  }
 ],
 "metadata": {
  "kernelspec": {
   "display_name": "venv",
   "language": "python",
   "name": "python3"
  },
  "language_info": {
   "codemirror_mode": {
    "name": "ipython",
    "version": 3
   },
   "file_extension": ".py",
   "mimetype": "text/x-python",
   "name": "python",
   "nbconvert_exporter": "python",
   "pygments_lexer": "ipython3",
   "version": "3.13.3"
  }
 },
 "nbformat": 4,
 "nbformat_minor": 5
}
