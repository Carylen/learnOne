{
 "cells": [
  {
   "cell_type": "code",
   "execution_count": 2,
   "id": "6a35a67c",
   "metadata": {},
   "outputs": [],
   "source": [
    "import sys\n",
    "import os\n",
    "sys.path.append(os.path.abspath(os.path.join(os.getcwd(), '..')))"
   ]
  },
  {
   "cell_type": "code",
   "execution_count": 10,
   "id": "70dc824b",
   "metadata": {},
   "outputs": [],
   "source": [
    "from src.data.read_file import load_params, read_dataset\n",
    "from sklearn.model_selection import train_test_split\n",
    "import joblib\n",
    "import pandas as pd\n"
   ]
  },
  {
   "cell_type": "markdown",
   "id": "a8c31bea",
   "metadata": {},
   "source": [
    "**[ DATA PREPARATION ]**"
   ]
  },
  {
   "cell_type": "code",
   "execution_count": 4,
   "id": "b8822628",
   "metadata": {},
   "outputs": [
    {
     "data": {
      "text/plain": [
       "{'dataset_dir': 'data/raw/',\n",
       " 'datetime_columns': ['tanggal'],\n",
       " 'int32_columns': ['pm10', 'pm25', 'so2', 'co', 'o3', 'no2', 'max'],\n",
       " 'label': 'categori',\n",
       " 'label_categories': ['BAIK', 'SEDANG', 'TIDAK SEHAT'],\n",
       " 'label_categories_new': ['BAIK', 'TIDAK BAIK'],\n",
       " 'missing_value_co': 11,\n",
       " 'missing_value_no2': 18,\n",
       " 'missing_value_o3': 29,\n",
       " 'missing_value_pm10': {'BAIK': 28, 'TIDAK BAIK': 55},\n",
       " 'missing_value_pm25': {'BAIK': 38, 'TIDAK BAIK': 82},\n",
       " 'missing_value_so2': 35,\n",
       " 'object_columns': ['stasiun', 'critical', 'categori'],\n",
       " 'predictors': ['stasiun', 'pm10', 'pm25', 'so2', 'co', 'o3', 'no2'],\n",
       " 'range_co': [-1, 100],\n",
       " 'range_no2': [-1, 100],\n",
       " 'range_o3': [-1, 160],\n",
       " 'range_pm10': [-1, 800],\n",
       " 'range_pm25': [-1, 400],\n",
       " 'range_so2': [-1, 500],\n",
       " 'range_stasiun': ['DKI1 (Bunderan HI)',\n",
       "  'DKI2 (Kelapa Gading)',\n",
       "  'DKI3 (Jagakarsa)',\n",
       "  'DKI4 (Lubang Buaya)',\n",
       "  'DKI5 (Kebon Jeruk) Jakarta Barat']}"
      ]
     },
     "execution_count": 4,
     "metadata": {},
     "output_type": "execute_result"
    }
   ],
   "source": [
    "params_dir = \"../config/config.yaml\"\n",
    "params = load_params(params_dir)\n",
    "params"
   ]
  },
  {
   "cell_type": "code",
   "execution_count": 5,
   "id": "58217e94",
   "metadata": {},
   "outputs": [
    {
     "name": "stderr",
     "output_type": "stream",
     "text": [
      "100%|██████████| 12/12 [00:00<00:00, 222.50it/s]\n"
     ]
    },
    {
     "data": {
      "text/html": [
       "<div>\n",
       "<style scoped>\n",
       "    .dataframe tbody tr th:only-of-type {\n",
       "        vertical-align: middle;\n",
       "    }\n",
       "\n",
       "    .dataframe tbody tr th {\n",
       "        vertical-align: top;\n",
       "    }\n",
       "\n",
       "    .dataframe thead th {\n",
       "        text-align: right;\n",
       "    }\n",
       "</style>\n",
       "<table border=\"1\" class=\"dataframe\">\n",
       "  <thead>\n",
       "    <tr style=\"text-align: right;\">\n",
       "      <th></th>\n",
       "      <th>tanggal</th>\n",
       "      <th>stasiun</th>\n",
       "      <th>pm10</th>\n",
       "      <th>pm25</th>\n",
       "      <th>so2</th>\n",
       "      <th>co</th>\n",
       "      <th>o3</th>\n",
       "      <th>no2</th>\n",
       "      <th>max</th>\n",
       "      <th>critical</th>\n",
       "      <th>categori</th>\n",
       "    </tr>\n",
       "  </thead>\n",
       "  <tbody>\n",
       "    <tr>\n",
       "      <th>0</th>\n",
       "      <td>2021-09-01</td>\n",
       "      <td>DKI1 (Bunderan HI)</td>\n",
       "      <td>63</td>\n",
       "      <td>88</td>\n",
       "      <td>29</td>\n",
       "      <td>15</td>\n",
       "      <td>24</td>\n",
       "      <td>38</td>\n",
       "      <td>88</td>\n",
       "      <td>PM25</td>\n",
       "      <td>SEDANG</td>\n",
       "    </tr>\n",
       "    <tr>\n",
       "      <th>1</th>\n",
       "      <td>2021-09-02</td>\n",
       "      <td>DKI1 (Bunderan HI)</td>\n",
       "      <td>60</td>\n",
       "      <td>83</td>\n",
       "      <td>29</td>\n",
       "      <td>11</td>\n",
       "      <td>30</td>\n",
       "      <td>28</td>\n",
       "      <td>83</td>\n",
       "      <td>PM25</td>\n",
       "      <td>SEDANG</td>\n",
       "    </tr>\n",
       "    <tr>\n",
       "      <th>2</th>\n",
       "      <td>2021-09-03</td>\n",
       "      <td>DKI1 (Bunderan HI)</td>\n",
       "      <td>60</td>\n",
       "      <td>82</td>\n",
       "      <td>27</td>\n",
       "      <td>11</td>\n",
       "      <td>37</td>\n",
       "      <td>30</td>\n",
       "      <td>82</td>\n",
       "      <td>PM25</td>\n",
       "      <td>SEDANG</td>\n",
       "    </tr>\n",
       "    <tr>\n",
       "      <th>3</th>\n",
       "      <td>2021-09-04</td>\n",
       "      <td>DKI1 (Bunderan HI)</td>\n",
       "      <td>58</td>\n",
       "      <td>77</td>\n",
       "      <td>26</td>\n",
       "      <td>10</td>\n",
       "      <td>31</td>\n",
       "      <td>28</td>\n",
       "      <td>77</td>\n",
       "      <td>PM25</td>\n",
       "      <td>SEDANG</td>\n",
       "    </tr>\n",
       "  </tbody>\n",
       "</table>\n",
       "</div>"
      ],
      "text/plain": [
       "      tanggal             stasiun pm10 pm25 so2  co  o3 no2 max critical  \\\n",
       "0  2021-09-01  DKI1 (Bunderan HI)   63   88  29  15  24  38  88     PM25   \n",
       "1  2021-09-02  DKI1 (Bunderan HI)   60   83  29  11  30  28  83     PM25   \n",
       "2  2021-09-03  DKI1 (Bunderan HI)   60   82  27  11  37  30  82     PM25   \n",
       "3  2021-09-04  DKI1 (Bunderan HI)   58   77  26  10  31  28  77     PM25   \n",
       "\n",
       "  categori  \n",
       "0   SEDANG  \n",
       "1   SEDANG  \n",
       "2   SEDANG  \n",
       "3   SEDANG  "
      ]
     },
     "execution_count": 5,
     "metadata": {},
     "output_type": "execute_result"
    }
   ],
   "source": [
    "dataset = read_dataset('../' + params[\"dataset_dir\"])\n",
    "dataset.head(4)"
   ]
  },
  {
   "cell_type": "code",
   "execution_count": 6,
   "id": "e900fb44",
   "metadata": {},
   "outputs": [
    {
     "data": {
      "text/html": [
       "<div>\n",
       "<style scoped>\n",
       "    .dataframe tbody tr th:only-of-type {\n",
       "        vertical-align: middle;\n",
       "    }\n",
       "\n",
       "    .dataframe tbody tr th {\n",
       "        vertical-align: top;\n",
       "    }\n",
       "\n",
       "    .dataframe thead th {\n",
       "        text-align: right;\n",
       "    }\n",
       "</style>\n",
       "<table border=\"1\" class=\"dataframe\">\n",
       "  <thead>\n",
       "    <tr style=\"text-align: right;\">\n",
       "      <th></th>\n",
       "      <th>tanggal</th>\n",
       "      <th>stasiun</th>\n",
       "      <th>pm10</th>\n",
       "      <th>pm25</th>\n",
       "      <th>so2</th>\n",
       "      <th>co</th>\n",
       "      <th>o3</th>\n",
       "      <th>no2</th>\n",
       "      <th>max</th>\n",
       "      <th>critical</th>\n",
       "      <th>categori</th>\n",
       "    </tr>\n",
       "  </thead>\n",
       "  <tbody>\n",
       "    <tr>\n",
       "      <th>count</th>\n",
       "      <td>1830</td>\n",
       "      <td>1830</td>\n",
       "      <td>1830</td>\n",
       "      <td>1768</td>\n",
       "      <td>1830</td>\n",
       "      <td>1830</td>\n",
       "      <td>1830</td>\n",
       "      <td>1830</td>\n",
       "      <td>1830</td>\n",
       "      <td>1813</td>\n",
       "      <td>1829</td>\n",
       "    </tr>\n",
       "    <tr>\n",
       "      <th>unique</th>\n",
       "      <td>335</td>\n",
       "      <td>5</td>\n",
       "      <td>122</td>\n",
       "      <td>191</td>\n",
       "      <td>121</td>\n",
       "      <td>54</td>\n",
       "      <td>120</td>\n",
       "      <td>86</td>\n",
       "      <td>186</td>\n",
       "      <td>6</td>\n",
       "      <td>4</td>\n",
       "    </tr>\n",
       "    <tr>\n",
       "      <th>top</th>\n",
       "      <td>2021-07-11</td>\n",
       "      <td>DKI1 (Bunderan HI)</td>\n",
       "      <td>51</td>\n",
       "      <td>81</td>\n",
       "      <td>---</td>\n",
       "      <td>10</td>\n",
       "      <td>24</td>\n",
       "      <td>17</td>\n",
       "      <td>77</td>\n",
       "      <td>PM25</td>\n",
       "      <td>SEDANG</td>\n",
       "    </tr>\n",
       "    <tr>\n",
       "      <th>freq</th>\n",
       "      <td>10</td>\n",
       "      <td>366</td>\n",
       "      <td>72</td>\n",
       "      <td>41</td>\n",
       "      <td>114</td>\n",
       "      <td>171</td>\n",
       "      <td>67</td>\n",
       "      <td>90</td>\n",
       "      <td>45</td>\n",
       "      <td>1631</td>\n",
       "      <td>1305</td>\n",
       "    </tr>\n",
       "  </tbody>\n",
       "</table>\n",
       "</div>"
      ],
      "text/plain": [
       "           tanggal             stasiun  pm10  pm25   so2    co    o3   no2  \\\n",
       "count         1830                1830  1830  1768  1830  1830  1830  1830   \n",
       "unique         335                   5   122   191   121    54   120    86   \n",
       "top     2021-07-11  DKI1 (Bunderan HI)    51    81   ---    10    24    17   \n",
       "freq            10                 366    72    41   114   171    67    90   \n",
       "\n",
       "         max critical categori  \n",
       "count   1830     1813     1829  \n",
       "unique   186        6        4  \n",
       "top       77     PM25   SEDANG  \n",
       "freq      45     1631     1305  "
      ]
     },
     "execution_count": 6,
     "metadata": {},
     "output_type": "execute_result"
    }
   ],
   "source": [
    "dataset.describe()"
   ]
  },
  {
   "cell_type": "code",
   "execution_count": 7,
   "id": "d5db3238",
   "metadata": {},
   "outputs": [
    {
     "data": {
      "text/plain": [
       "['../data/processed/dataset.pkl']"
      ]
     },
     "execution_count": 7,
     "metadata": {},
     "output_type": "execute_result"
    }
   ],
   "source": [
    "joblib.dump(dataset, \"../data/processed/dataset.pkl\")"
   ]
  },
  {
   "cell_type": "code",
   "execution_count": 9,
   "id": "5b5e7aa2",
   "metadata": {},
   "outputs": [
    {
     "name": "stdout",
     "output_type": "stream",
     "text": [
      "<class 'pandas.core.frame.DataFrame'>\n",
      "RangeIndex: 1830 entries, 0 to 1829\n",
      "Data columns (total 11 columns):\n",
      " #   Column    Non-Null Count  Dtype \n",
      "---  ------    --------------  ----- \n",
      " 0   tanggal   1830 non-null   object\n",
      " 1   stasiun   1830 non-null   object\n",
      " 2   pm10      1830 non-null   object\n",
      " 3   pm25      1768 non-null   object\n",
      " 4   so2       1830 non-null   object\n",
      " 5   co        1830 non-null   object\n",
      " 6   o3        1830 non-null   object\n",
      " 7   no2       1830 non-null   object\n",
      " 8   max       1830 non-null   object\n",
      " 9   critical  1813 non-null   object\n",
      " 10  categori  1829 non-null   object\n",
      "dtypes: object(11)\n",
      "memory usage: 157.4+ KB\n"
     ]
    }
   ],
   "source": [
    "dataset.info()"
   ]
  },
  {
   "cell_type": "code",
   "execution_count": null,
   "id": "7ccc21b6",
   "metadata": {},
   "outputs": [],
   "source": [
    "dataset.tanggal = pd.to_datetime(dataset.tanggal)\n"
   ]
  }
 ],
 "metadata": {
  "kernelspec": {
   "display_name": "venv",
   "language": "python",
   "name": "python3"
  },
  "language_info": {
   "codemirror_mode": {
    "name": "ipython",
    "version": 3
   },
   "file_extension": ".py",
   "mimetype": "text/x-python",
   "name": "python",
   "nbconvert_exporter": "python",
   "pygments_lexer": "ipython3",
   "version": "3.13.3"
  }
 },
 "nbformat": 4,
 "nbformat_minor": 5
}
